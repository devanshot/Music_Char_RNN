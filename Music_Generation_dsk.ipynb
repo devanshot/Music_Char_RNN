{
 "cells": [
  {
   "cell_type": "code",
   "execution_count": 1,
   "metadata": {},
   "outputs": [],
   "source": [
    "import argparse\n",
    "import os\n",
    "import json\n",
    "import numpy as np"
   ]
  },
  {
   "cell_type": "code",
   "execution_count": 2,
   "metadata": {},
   "outputs": [],
   "source": [
    "from tensorflow.keras.models import Sequential, load_model\n",
    "from tensorflow.keras.layers import LSTM, Dropout, TimeDistributed, Dense, Activation, Embedding"
   ]
  },
  {
   "cell_type": "code",
   "execution_count": 8,
   "metadata": {},
   "outputs": [],
   "source": [
    "data_path='C:\\\\Users\\\\DEVANSH KHANDEKAR\\\\DEVANSH\\\\PYTHON_TECHNOGEEKS_PUNE\\\\AppliedAI\\\\char-rnn-keras-master\\\\Music_Generation_dsk\\\\data'\n",
    "f_name='input.txt'"
   ]
  },
  {
   "cell_type": "code",
   "execution_count": 26,
   "metadata": {},
   "outputs": [],
   "source": [
    "batch_size=16\n",
    "seq_length=64 "
   ]
  },
  {
   "cell_type": "code",
   "execution_count": 5,
   "metadata": {},
   "outputs": [],
   "source": [
    "log_path='C:\\\\Users\\\\DEVANSH KHANDEKAR\\\\DEVANSH\\\\PYTHON_TECHNOGEEKS_PUNE\\\\AppliedAI\\\\char-rnn-keras-master\\\\Music_Generation_dsk\\\\logs'"
   ]
  },
  {
   "cell_type": "code",
   "execution_count": 6,
   "metadata": {},
   "outputs": [],
   "source": [
    "def read_char(text):\n",
    "    char_to_idx={ch:i for (i,ch) in enumerate(sorted(list(set(text))))} \n",
    "    return char_to_idx"
   ]
  },
  {
   "cell_type": "code",
   "execution_count": 19,
   "metadata": {},
   "outputs": [],
   "source": [
    "f=open(os.path.join(data_path,f_name)).read()"
   ]
  },
  {
   "cell_type": "code",
   "execution_count": 21,
   "metadata": {},
   "outputs": [
    {
     "name": "stdout",
     "output_type": "stream",
     "text": [
      "{'\\n': 0, ' ': 1, '!': 2, '\"': 3, '#': 4, '%': 5, '&': 6, \"'\": 7, '(': 8, ')': 9, '+': 10, ',': 11, '-': 12, '.': 13, '/': 14, '0': 15, '1': 16, '2': 17, '3': 18, '4': 19, '5': 20, '6': 21, '7': 22, '8': 23, '9': 24, ':': 25, '=': 26, '?': 27, 'A': 28, 'B': 29, 'C': 30, 'D': 31, 'E': 32, 'F': 33, 'G': 34, 'H': 35, 'I': 36, 'J': 37, 'K': 38, 'L': 39, 'M': 40, 'N': 41, 'O': 42, 'P': 43, 'Q': 44, 'R': 45, 'S': 46, 'T': 47, 'U': 48, 'V': 49, 'W': 50, 'X': 51, 'Y': 52, '[': 53, '\\\\': 54, ']': 55, '^': 56, '_': 57, 'a': 58, 'b': 59, 'c': 60, 'd': 61, 'e': 62, 'f': 63, 'g': 64, 'h': 65, 'i': 66, 'j': 67, 'k': 68, 'l': 69, 'm': 70, 'n': 71, 'o': 72, 'p': 73, 'q': 74, 'r': 75, 's': 76, 't': 77, 'u': 78, 'v': 79, 'w': 80, 'x': 81, 'y': 82, 'z': 83, '|': 84, '~': 85}\n"
     ]
    }
   ],
   "source": [
    "print(read_char(f))"
   ]
  },
  {
   "cell_type": "code",
   "execution_count": 22,
   "metadata": {},
   "outputs": [],
   "source": [
    " with open(os.path.join(data_path, 'char_to_idx.json'), 'w') as j:\n",
    "        json.dump(read_char(f), j)"
   ]
  },
  {
   "cell_type": "code",
   "execution_count": 23,
   "metadata": {},
   "outputs": [],
   "source": [
    "idx_to_char = { i: ch for (ch, i) in read_char(f).items() }\n",
    "vocab_size=len(read_char(f).items())"
   ]
  },
  {
   "cell_type": "code",
   "execution_count": 25,
   "metadata": {},
   "outputs": [
    {
     "data": {
      "text/plain": [
       "{0: '\\n',\n",
       " 1: ' ',\n",
       " 2: '!',\n",
       " 3: '\"',\n",
       " 4: '#',\n",
       " 5: '%',\n",
       " 6: '&',\n",
       " 7: \"'\",\n",
       " 8: '(',\n",
       " 9: ')',\n",
       " 10: '+',\n",
       " 11: ',',\n",
       " 12: '-',\n",
       " 13: '.',\n",
       " 14: '/',\n",
       " 15: '0',\n",
       " 16: '1',\n",
       " 17: '2',\n",
       " 18: '3',\n",
       " 19: '4',\n",
       " 20: '5',\n",
       " 21: '6',\n",
       " 22: '7',\n",
       " 23: '8',\n",
       " 24: '9',\n",
       " 25: ':',\n",
       " 26: '=',\n",
       " 27: '?',\n",
       " 28: 'A',\n",
       " 29: 'B',\n",
       " 30: 'C',\n",
       " 31: 'D',\n",
       " 32: 'E',\n",
       " 33: 'F',\n",
       " 34: 'G',\n",
       " 35: 'H',\n",
       " 36: 'I',\n",
       " 37: 'J',\n",
       " 38: 'K',\n",
       " 39: 'L',\n",
       " 40: 'M',\n",
       " 41: 'N',\n",
       " 42: 'O',\n",
       " 43: 'P',\n",
       " 44: 'Q',\n",
       " 45: 'R',\n",
       " 46: 'S',\n",
       " 47: 'T',\n",
       " 48: 'U',\n",
       " 49: 'V',\n",
       " 50: 'W',\n",
       " 51: 'X',\n",
       " 52: 'Y',\n",
       " 53: '[',\n",
       " 54: '\\\\',\n",
       " 55: ']',\n",
       " 56: '^',\n",
       " 57: '_',\n",
       " 58: 'a',\n",
       " 59: 'b',\n",
       " 60: 'c',\n",
       " 61: 'd',\n",
       " 62: 'e',\n",
       " 63: 'f',\n",
       " 64: 'g',\n",
       " 65: 'h',\n",
       " 66: 'i',\n",
       " 67: 'j',\n",
       " 68: 'k',\n",
       " 69: 'l',\n",
       " 70: 'm',\n",
       " 71: 'n',\n",
       " 72: 'o',\n",
       " 73: 'p',\n",
       " 74: 'q',\n",
       " 75: 'r',\n",
       " 76: 's',\n",
       " 77: 't',\n",
       " 78: 'u',\n",
       " 79: 'v',\n",
       " 80: 'w',\n",
       " 81: 'x',\n",
       " 82: 'y',\n",
       " 83: 'z',\n",
       " 84: '|',\n",
       " 85: '~'}"
      ]
     },
     "execution_count": 25,
     "metadata": {},
     "output_type": "execute_result"
    }
   ],
   "source": []
  },
  {
   "cell_type": "code",
   "execution_count": 28,
   "metadata": {},
   "outputs": [],
   "source": [
    "from tensorflow.keras.models import Sequential ,load_model"
   ]
  },
  {
   "cell_type": "code",
   "execution_count": 32,
   "metadata": {},
   "outputs": [
    {
     "data": {
      "text/plain": [
       "'2.0.0'"
      ]
     },
     "execution_count": 32,
     "metadata": {},
     "output_type": "execute_result"
    }
   ],
   "source": []
  },
  {
   "cell_type": "code",
   "execution_count": null,
   "metadata": {},
   "outputs": [],
   "source": []
  }
 ],
 "metadata": {
  "kernelspec": {
   "display_name": "Python 3",
   "language": "python",
   "name": "python3"
  },
  "language_info": {
   "codemirror_mode": {
    "name": "ipython",
    "version": 3
   },
   "file_extension": ".py",
   "mimetype": "text/x-python",
   "name": "python",
   "nbconvert_exporter": "python",
   "pygments_lexer": "ipython3",
   "version": "3.7.1"
  }
 },
 "nbformat": 4,
 "nbformat_minor": 4
}
